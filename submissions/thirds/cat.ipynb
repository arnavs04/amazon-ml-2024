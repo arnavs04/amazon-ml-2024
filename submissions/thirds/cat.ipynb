{
 "cells": [
  {
   "cell_type": "code",
   "execution_count": 2,
   "metadata": {},
   "outputs": [],
   "source": [
    "import numpy as np\n",
    "import pandas as pd\n",
    "import re\n",
    "import os"
   ]
  },
  {
   "cell_type": "code",
   "execution_count": 3,
   "metadata": {},
   "outputs": [
    {
     "name": "stderr",
     "output_type": "stream",
     "text": [
      "/var/folders/c8/j_nr7fhx4w9bxy7s92tnbphw0000gn/T/ipykernel_58857/3589259298.py:1: DtypeWarning: Columns (4) have mixed types. Specify dtype option on import or set low_memory=False.\n",
      "  df = pd.read_csv(\"combined_file.csv\")\n"
     ]
    }
   ],
   "source": [
    "df = pd.read_csv(\"combined_file.csv\")"
   ]
  },
  {
   "cell_type": "code",
   "execution_count": 4,
   "metadata": {},
   "outputs": [
    {
     "data": {
      "text/html": [
       "<div>\n",
       "<style scoped>\n",
       "    .dataframe tbody tr th:only-of-type {\n",
       "        vertical-align: middle;\n",
       "    }\n",
       "\n",
       "    .dataframe tbody tr th {\n",
       "        vertical-align: top;\n",
       "    }\n",
       "\n",
       "    .dataframe thead th {\n",
       "        text-align: right;\n",
       "    }\n",
       "</style>\n",
       "<table border=\"1\" class=\"dataframe\">\n",
       "  <thead>\n",
       "    <tr style=\"text-align: right;\">\n",
       "      <th></th>\n",
       "      <th>index</th>\n",
       "      <th>image_link</th>\n",
       "      <th>group_id</th>\n",
       "      <th>entity_name</th>\n",
       "      <th>item_value</th>\n",
       "    </tr>\n",
       "  </thead>\n",
       "  <tbody>\n",
       "    <tr>\n",
       "      <th>0</th>\n",
       "      <td>0</td>\n",
       "      <td>https://m.media-amazon.com/images/I/110EibNycl...</td>\n",
       "      <td>156839</td>\n",
       "      <td>height</td>\n",
       "      <td>8 centimetre</td>\n",
       "    </tr>\n",
       "    <tr>\n",
       "      <th>1</th>\n",
       "      <td>1</td>\n",
       "      <td>https://m.media-amazon.com/images/I/11TU2clswz...</td>\n",
       "      <td>792578</td>\n",
       "      <td>width</td>\n",
       "      <td>42 unknown</td>\n",
       "    </tr>\n",
       "    <tr>\n",
       "      <th>2</th>\n",
       "      <td>2</td>\n",
       "      <td>https://m.media-amazon.com/images/I/11TU2clswz...</td>\n",
       "      <td>792578</td>\n",
       "      <td>height</td>\n",
       "      <td>42 centimetre</td>\n",
       "    </tr>\n",
       "    <tr>\n",
       "      <th>3</th>\n",
       "      <td>3</td>\n",
       "      <td>https://m.media-amazon.com/images/I/11TU2clswz...</td>\n",
       "      <td>792578</td>\n",
       "      <td>depth</td>\n",
       "      <td>42 millimetre</td>\n",
       "    </tr>\n",
       "    <tr>\n",
       "      <th>4</th>\n",
       "      <td>4</td>\n",
       "      <td>https://m.media-amazon.com/images/I/11gHj8dhhr...</td>\n",
       "      <td>792578</td>\n",
       "      <td>depth</td>\n",
       "      <td>10.50 millimetre</td>\n",
       "    </tr>\n",
       "  </tbody>\n",
       "</table>\n",
       "</div>"
      ],
      "text/plain": [
       "   index                                         image_link  group_id  \\\n",
       "0      0  https://m.media-amazon.com/images/I/110EibNycl...    156839   \n",
       "1      1  https://m.media-amazon.com/images/I/11TU2clswz...    792578   \n",
       "2      2  https://m.media-amazon.com/images/I/11TU2clswz...    792578   \n",
       "3      3  https://m.media-amazon.com/images/I/11TU2clswz...    792578   \n",
       "4      4  https://m.media-amazon.com/images/I/11gHj8dhhr...    792578   \n",
       "\n",
       "  entity_name        item_value  \n",
       "0      height      8 centimetre  \n",
       "1       width        42 unknown  \n",
       "2      height     42 centimetre  \n",
       "3       depth     42 millimetre  \n",
       "4       depth  10.50 millimetre  "
      ]
     },
     "execution_count": 4,
     "metadata": {},
     "output_type": "execute_result"
    }
   ],
   "source": [
    "df.head()"
   ]
  },
  {
   "cell_type": "code",
   "execution_count": 5,
   "metadata": {},
   "outputs": [],
   "source": [
    "entity_unit_map = {\n",
    "    'width': {'centimetre', 'foot', 'inch', 'metre', 'millimetre', 'yard'},\n",
    "    'depth': {'centimetre', 'foot', 'inch', 'metre', 'millimetre', 'yard'},\n",
    "    'height': {'centimetre', 'foot', 'inch', 'metre', 'millimetre', 'yard'},\n",
    "    'item_weight': {'gram',\n",
    "        'kilogram',\n",
    "        'microgram',\n",
    "        'milligram',\n",
    "        'ounce',\n",
    "        'pound',\n",
    "        'ton'},\n",
    "    'maximum_weight_recommendation': {'gram',\n",
    "        'kilogram',\n",
    "        'microgram',\n",
    "        'milligram',\n",
    "        'ounce',\n",
    "        'pound',\n",
    "        'ton'},\n",
    "    'voltage': {'kilovolt', 'millivolt', 'volt'},\n",
    "    'wattage': {'kilowatt', 'watt'},\n",
    "    'item_volume': {'centilitre',\n",
    "        'cubic foot',\n",
    "        'cubic inch',\n",
    "        'cup',\n",
    "        'decilitre',\n",
    "        'fluid ounce',\n",
    "        'gallon',\n",
    "        'imperial gallon',\n",
    "        'litre',\n",
    "        'microlitre',\n",
    "        'millilitre',\n",
    "        'pint',\n",
    "        'quart'}\n",
    "}\n",
    "\n",
    "allowed_units = {unit for entity in entity_unit_map for unit in entity_unit_map[entity]}"
   ]
  },
  {
   "cell_type": "code",
   "execution_count": 6,
   "metadata": {},
   "outputs": [],
   "source": [
    "# Function to extract and validate numeric value and unit\n",
    "def process_item_value(row):\n",
    "    entity = row['entity_name']\n",
    "    value = str(row['item_value'])  # Ensure value is a string\n",
    "    \n",
    "    # Extract numeric part and unit\n",
    "    match = re.match(r\"([\\d.]+)?\\s*(.*)\", value)\n",
    "    if not match:\n",
    "        return value  # If no match, return the original value\n",
    "    \n",
    "    numeric_value, unit = match.groups()\n",
    "    \n",
    "    # Check if numeric_value is None or empty, indicating no numeric value was provided\n",
    "    if not numeric_value or not numeric_value.strip():\n",
    "        numeric_value = '0.0'\n",
    "    \n",
    "    numeric_value = float(numeric_value)  # Convert to float\n",
    "    \n",
    "    # Normalize unit and check if it's valid\n",
    "    unit = unit.strip().lower()\n",
    "    if unit not in allowed_units:\n",
    "        unit = ''  # Remove invalid units\n",
    "    \n",
    "    return f\"{numeric_value} {unit}\"\n",
    "\n",
    "# Apply the processing function\n",
    "df['item_value'] = df.apply(process_item_value, axis=1)"
   ]
  },
  {
   "cell_type": "code",
   "execution_count": 7,
   "metadata": {},
   "outputs": [
    {
     "name": "stdout",
     "output_type": "stream",
     "text": [
      "         index                                         image_link  group_id  \\\n",
      "121358  121448  https://m.media-amazon.com/images/I/71c4caLU+Q...    953313   \n",
      "123840  123932  https://m.media-amazon.com/images/I/71qSvA1qUX...    275506   \n",
      "107178  107254  https://m.media-amazon.com/images/I/61Fcu5V2rA...    558806   \n",
      "106406  106482  https://m.media-amazon.com/images/I/61FA0toFI7...    347320   \n",
      "88625    88697  https://m.media-amazon.com/images/I/614j5OYlO8...    243137   \n",
      "115019  115099  https://m.media-amazon.com/images/I/7126ljSyMq...    939068   \n",
      "110468  110547  https://m.media-amazon.com/images/I/61Wmk91qiU...    275506   \n",
      "10665    10665  https://m.media-amazon.com/images/I/41VfxoAMAc...    347320   \n",
      "23865    23865  https://m.media-amazon.com/images/I/513SlCOXIr...    695925   \n",
      "6506      6506  https://m.media-amazon.com/images/I/41GpU3rinZ...    210293   \n",
      "\n",
      "                          entity_name item_value  \n",
      "121358                    item_weight       0.0   \n",
      "123840                    item_weight       0.0   \n",
      "107178                         height       0.0   \n",
      "106406                          depth       0.0   \n",
      "88625                           width       0.0   \n",
      "115019  maximum_weight_recommendation       0.0   \n",
      "110468                    item_weight       0.0   \n",
      "10665                           width      10.0   \n",
      "23865                           width      10.6   \n",
      "6506                            width      13.0   \n"
     ]
    }
   ],
   "source": [
    "# Regular expression pattern to match: number, space, and unit\n",
    "pattern = r'^\\d+(\\.\\d+)?\\s[a-zA-Z]+$'\n",
    "\n",
    "# Filter rows that do not match the pattern\n",
    "non_matching_rows = df[~df['item_value'].str.match(pattern, na=False)]\n",
    "\n",
    "print(non_matching_rows.sample(10))"
   ]
  },
  {
   "cell_type": "code",
   "execution_count": 8,
   "metadata": {},
   "outputs": [
    {
     "name": "stdout",
     "output_type": "stream",
     "text": [
      "         index                                         image_link  group_id  \\\n",
      "0            0  https://m.media-amazon.com/images/I/110EibNycl...    156839   \n",
      "1            1  https://m.media-amazon.com/images/I/11TU2clswz...    792578   \n",
      "2            2  https://m.media-amazon.com/images/I/11TU2clswz...    792578   \n",
      "3            3  https://m.media-amazon.com/images/I/11TU2clswz...    792578   \n",
      "4            4  https://m.media-amazon.com/images/I/11gHj8dhhr...    792578   \n",
      "...        ...                                                ...       ...   \n",
      "131182  131283  https://m.media-amazon.com/images/I/A1rVsIzEtk...    721522   \n",
      "131183  131284  https://m.media-amazon.com/images/I/A1rdvZ5zDd...    603688   \n",
      "131184  131285  https://m.media-amazon.com/images/I/A1rdvZ5zDd...    603688   \n",
      "131185  131286  https://m.media-amazon.com/images/I/A1tnTUPyr7...    853009   \n",
      "131186  131287  https://m.media-amazon.com/images/I/A1tnTUPyr7...    853009   \n",
      "\n",
      "                          entity_name       item_value  \n",
      "0                              height   8.0 centimetre  \n",
      "1                               width        42.0 inch  \n",
      "2                              height  42.0 centimetre  \n",
      "3                               depth  42.0 millimetre  \n",
      "4                               depth  10.5 millimetre  \n",
      "...                               ...              ...  \n",
      "131182  maximum_weight_recommendation         0.0 inch  \n",
      "131183                    item_weight         0.0 inch  \n",
      "131184  maximum_weight_recommendation         0.0 inch  \n",
      "131185                    item_weight         0.0 inch  \n",
      "131186  maximum_weight_recommendation         0.0 inch  \n",
      "\n",
      "[131187 rows x 5 columns]\n"
     ]
    }
   ],
   "source": [
    "# Regular expression pattern to match only numbers\n",
    "pattern = r'^\\d+(\\.\\d+)?$'\n",
    "\n",
    "# Function to append 'inch' to numeric values\n",
    "def append_unit(value):\n",
    "    value_str = str(value).strip()  # Convert to string and strip whitespace\n",
    "    if re.fullmatch(pattern, value_str):  # Use fullmatch to ensure the entire string matches the pattern\n",
    "        return f\"{value_str} inch\"\n",
    "    return value\n",
    "\n",
    "# Apply the function to the item_value column\n",
    "df['item_value'] = df['item_value'].apply(append_unit)\n",
    "\n",
    "print(df)"
   ]
  },
  {
   "cell_type": "code",
   "execution_count": 9,
   "metadata": {},
   "outputs": [
    {
     "data": {
      "text/html": [
       "<div>\n",
       "<style scoped>\n",
       "    .dataframe tbody tr th:only-of-type {\n",
       "        vertical-align: middle;\n",
       "    }\n",
       "\n",
       "    .dataframe tbody tr th {\n",
       "        vertical-align: top;\n",
       "    }\n",
       "\n",
       "    .dataframe thead th {\n",
       "        text-align: right;\n",
       "    }\n",
       "</style>\n",
       "<table border=\"1\" class=\"dataframe\">\n",
       "  <thead>\n",
       "    <tr style=\"text-align: right;\">\n",
       "      <th></th>\n",
       "      <th>index</th>\n",
       "      <th>image_link</th>\n",
       "      <th>group_id</th>\n",
       "      <th>entity_name</th>\n",
       "      <th>item_value</th>\n",
       "    </tr>\n",
       "  </thead>\n",
       "  <tbody>\n",
       "    <tr>\n",
       "      <th>0</th>\n",
       "      <td>0</td>\n",
       "      <td>https://m.media-amazon.com/images/I/110EibNycl...</td>\n",
       "      <td>156839</td>\n",
       "      <td>height</td>\n",
       "      <td>8.0 centimetre</td>\n",
       "    </tr>\n",
       "    <tr>\n",
       "      <th>1</th>\n",
       "      <td>1</td>\n",
       "      <td>https://m.media-amazon.com/images/I/11TU2clswz...</td>\n",
       "      <td>792578</td>\n",
       "      <td>width</td>\n",
       "      <td>42.0 inch</td>\n",
       "    </tr>\n",
       "    <tr>\n",
       "      <th>2</th>\n",
       "      <td>2</td>\n",
       "      <td>https://m.media-amazon.com/images/I/11TU2clswz...</td>\n",
       "      <td>792578</td>\n",
       "      <td>height</td>\n",
       "      <td>42.0 centimetre</td>\n",
       "    </tr>\n",
       "    <tr>\n",
       "      <th>3</th>\n",
       "      <td>3</td>\n",
       "      <td>https://m.media-amazon.com/images/I/11TU2clswz...</td>\n",
       "      <td>792578</td>\n",
       "      <td>depth</td>\n",
       "      <td>42.0 millimetre</td>\n",
       "    </tr>\n",
       "    <tr>\n",
       "      <th>4</th>\n",
       "      <td>4</td>\n",
       "      <td>https://m.media-amazon.com/images/I/11gHj8dhhr...</td>\n",
       "      <td>792578</td>\n",
       "      <td>depth</td>\n",
       "      <td>10.5 millimetre</td>\n",
       "    </tr>\n",
       "  </tbody>\n",
       "</table>\n",
       "</div>"
      ],
      "text/plain": [
       "   index                                         image_link  group_id  \\\n",
       "0      0  https://m.media-amazon.com/images/I/110EibNycl...    156839   \n",
       "1      1  https://m.media-amazon.com/images/I/11TU2clswz...    792578   \n",
       "2      2  https://m.media-amazon.com/images/I/11TU2clswz...    792578   \n",
       "3      3  https://m.media-amazon.com/images/I/11TU2clswz...    792578   \n",
       "4      4  https://m.media-amazon.com/images/I/11gHj8dhhr...    792578   \n",
       "\n",
       "  entity_name       item_value  \n",
       "0      height   8.0 centimetre  \n",
       "1       width        42.0 inch  \n",
       "2      height  42.0 centimetre  \n",
       "3       depth  42.0 millimetre  \n",
       "4       depth  10.5 millimetre  "
      ]
     },
     "execution_count": 9,
     "metadata": {},
     "output_type": "execute_result"
    }
   ],
   "source": [
    "df.head()"
   ]
  },
  {
   "cell_type": "code",
   "execution_count": 10,
   "metadata": {},
   "outputs": [
    {
     "data": {
      "text/plain": [
       "{'centimetre',\n",
       " 'gram',\n",
       " 'inch',\n",
       " 'kilogram',\n",
       " 'millilitre',\n",
       " 'millimetre',\n",
       " 'volt',\n",
       " 'watt'}"
      ]
     },
     "execution_count": 10,
     "metadata": {},
     "output_type": "execute_result"
    }
   ],
   "source": [
    "# Regular expression pattern to extract the unit part\n",
    "unit_pattern = r'\\s+([a-zA-Z]+)$'\n",
    "\n",
    "# Extract units from the filtered data\n",
    "units = df['item_value'].str.extract(unit_pattern)[0]\n",
    "\n",
    "# Create a set of unique units\n",
    "unique_units = set(units.dropna())\n",
    "unique_units"
   ]
  },
  {
   "cell_type": "code",
   "execution_count": 11,
   "metadata": {},
   "outputs": [
    {
     "data": {
      "text/plain": [
       "Index(['index', 'image_link', 'group_id', 'entity_name', 'item_value'], dtype='object')"
      ]
     },
     "execution_count": 11,
     "metadata": {},
     "output_type": "execute_result"
    }
   ],
   "source": [
    "df.columns"
   ]
  },
  {
   "cell_type": "code",
   "execution_count": 12,
   "metadata": {},
   "outputs": [
    {
     "data": {
      "text/html": [
       "<div>\n",
       "<style scoped>\n",
       "    .dataframe tbody tr th:only-of-type {\n",
       "        vertical-align: middle;\n",
       "    }\n",
       "\n",
       "    .dataframe tbody tr th {\n",
       "        vertical-align: top;\n",
       "    }\n",
       "\n",
       "    .dataframe thead th {\n",
       "        text-align: right;\n",
       "    }\n",
       "</style>\n",
       "<table border=\"1\" class=\"dataframe\">\n",
       "  <thead>\n",
       "    <tr style=\"text-align: right;\">\n",
       "      <th></th>\n",
       "      <th>index</th>\n",
       "      <th>image_link</th>\n",
       "      <th>group_id</th>\n",
       "      <th>entity_name</th>\n",
       "      <th>item_value</th>\n",
       "    </tr>\n",
       "  </thead>\n",
       "  <tbody>\n",
       "    <tr>\n",
       "      <th>0</th>\n",
       "      <td>0</td>\n",
       "      <td>https://m.media-amazon.com/images/I/110EibNycl...</td>\n",
       "      <td>156839</td>\n",
       "      <td>height</td>\n",
       "      <td>8.0 centimetre</td>\n",
       "    </tr>\n",
       "    <tr>\n",
       "      <th>1</th>\n",
       "      <td>1</td>\n",
       "      <td>https://m.media-amazon.com/images/I/11TU2clswz...</td>\n",
       "      <td>792578</td>\n",
       "      <td>width</td>\n",
       "      <td>42.0 inch</td>\n",
       "    </tr>\n",
       "    <tr>\n",
       "      <th>2</th>\n",
       "      <td>2</td>\n",
       "      <td>https://m.media-amazon.com/images/I/11TU2clswz...</td>\n",
       "      <td>792578</td>\n",
       "      <td>height</td>\n",
       "      <td>42.0 centimetre</td>\n",
       "    </tr>\n",
       "    <tr>\n",
       "      <th>3</th>\n",
       "      <td>3</td>\n",
       "      <td>https://m.media-amazon.com/images/I/11TU2clswz...</td>\n",
       "      <td>792578</td>\n",
       "      <td>depth</td>\n",
       "      <td>42.0 millimetre</td>\n",
       "    </tr>\n",
       "    <tr>\n",
       "      <th>4</th>\n",
       "      <td>4</td>\n",
       "      <td>https://m.media-amazon.com/images/I/11gHj8dhhr...</td>\n",
       "      <td>792578</td>\n",
       "      <td>depth</td>\n",
       "      <td>10.5 millimetre</td>\n",
       "    </tr>\n",
       "  </tbody>\n",
       "</table>\n",
       "</div>"
      ],
      "text/plain": [
       "   index                                         image_link  group_id  \\\n",
       "0      0  https://m.media-amazon.com/images/I/110EibNycl...    156839   \n",
       "1      1  https://m.media-amazon.com/images/I/11TU2clswz...    792578   \n",
       "2      2  https://m.media-amazon.com/images/I/11TU2clswz...    792578   \n",
       "3      3  https://m.media-amazon.com/images/I/11TU2clswz...    792578   \n",
       "4      4  https://m.media-amazon.com/images/I/11gHj8dhhr...    792578   \n",
       "\n",
       "  entity_name       item_value  \n",
       "0      height   8.0 centimetre  \n",
       "1       width        42.0 inch  \n",
       "2      height  42.0 centimetre  \n",
       "3       depth  42.0 millimetre  \n",
       "4       depth  10.5 millimetre  "
      ]
     },
     "execution_count": 12,
     "metadata": {},
     "output_type": "execute_result"
    }
   ],
   "source": [
    "df.head()"
   ]
  },
  {
   "cell_type": "code",
   "execution_count": 13,
   "metadata": {},
   "outputs": [
    {
     "name": "stdout",
     "output_type": "stream",
     "text": [
      "DataFrame saved to 'submission.csv'.\n"
     ]
    }
   ],
   "source": [
    "import pandas as pd\n",
    "\n",
    "# Create a new DataFrame with only the index and item_value columns\n",
    "df_filtered = pd.DataFrame({\n",
    "    'index': df['index'],\n",
    "    'prediction': df['item_value']\n",
    "})\n",
    "\n",
    "# Save to CSV file\n",
    "df_filtered.to_csv('submission.csv', index=True)\n",
    "\n",
    "print(\"DataFrame saved to 'submission.csv'.\")"
   ]
  },
  {
   "cell_type": "code",
   "execution_count": 14,
   "metadata": {},
   "outputs": [
    {
     "name": "stdout",
     "output_type": "stream",
     "text": [
      "DataFrame with last two columns saved to 'submission.csv'.\n"
     ]
    }
   ],
   "source": [
    "df_last_two_columns = df_filtered.iloc[:, -2:].rename(columns={df_filtered.columns[-1]: 'prediction'})\n",
    "\n",
    "# Save to CSV file\n",
    "df_last_two_columns.to_csv('submission.csv', index=False)\n",
    "\n",
    "print(\"DataFrame with last two columns saved to 'submission.csv'.\")"
   ]
  },
  {
   "cell_type": "code",
   "execution_count": 15,
   "metadata": {},
   "outputs": [],
   "source": [
    "def check_file(filename):\n",
    "    if not filename.lower().endswith('.csv'):\n",
    "        raise ValueError(\"Only CSV files are allowed.\")\n",
    "    if not os.path.exists(filename):\n",
    "        raise FileNotFoundError(\"Filepath: {} invalid or not found.\".format(filename))\n",
    "\n",
    "def common_mistake(unit):\n",
    "    if unit in allowed_units:\n",
    "        return unit\n",
    "    if unit.replace('ter', 'tre') in allowed_units:\n",
    "        return unit.replace('ter', 'tre')\n",
    "    if unit.replace('feet', 'foot') in allowed_units:\n",
    "        return unit.replace('feet', 'foot')\n",
    "    return unit\n",
    "    \n",
    "def parse_string(s):\n",
    "    s_stripped = \"\" if s==None or str(s)=='nan' else s.strip()\n",
    "    if s_stripped == \"\":\n",
    "        return None, None\n",
    "    pattern = re.compile(r'^-?\\d+(\\.\\d+)?\\s+[a-zA-Z\\s]+$')\n",
    "    if not pattern.match(s_stripped):\n",
    "        raise ValueError(\"Invalid format in {}\".format(s))\n",
    "    parts = s_stripped.split(maxsplit=1)\n",
    "    number = float(parts[0])\n",
    "    unit = common_mistake(parts[1])\n",
    "    if unit not in allowed_units:\n",
    "        raise ValueError(\"Invalid unit [{}] found in {}. Allowed units: {}\".format(\n",
    "            unit, s, allowed_units))\n",
    "    return number, unit\n",
    "\n",
    "def sanity_check(test_filename, output_filename):\n",
    "    check_file(test_filename)\n",
    "    check_file(output_filename)\n",
    "    \n",
    "    try:\n",
    "        test_df = pd.read_csv(test_filename)\n",
    "        output_df = pd.read_csv(output_filename)\n",
    "    except Exception as e:\n",
    "        raise ValueError(f\"Error reading the CSV files: {e}\")\n",
    "    \n",
    "    if 'index' not in test_df.columns:\n",
    "        raise ValueError(\"Test CSV file must contain the 'index' column.\")\n",
    "    \n",
    "    if 'index' not in output_df.columns or 'prediction' not in output_df.columns:\n",
    "        raise ValueError(\"Output CSV file must contain 'index' and 'prediction' columns.\")\n",
    "    \n",
    "    missing_index = set(test_df['index']).difference(set(output_df['index']))\n",
    "    if len(missing_index) != 0:\n",
    "        print(\"Missing index in test file: {}\".format(missing_index))\n",
    "        \n",
    "    extra_index = set(output_df['index']).difference(set(test_df['index']))\n",
    "    if len(extra_index) != 0:\n",
    "        print(\"Extra index in test file: {}\".format(extra_index))\n",
    "    output_df.apply(lambda x: parse_string(x['prediction']), axis=1)\n",
    "    print(\"Parsing successfull for file: {}\".format(output_filename))"
   ]
  },
  {
   "cell_type": "code",
   "execution_count": 16,
   "metadata": {},
   "outputs": [
    {
     "name": "stdout",
     "output_type": "stream",
     "text": [
      "Missing index in test file: {87458, 87459, 87460, 87461, 87462, 87463, 87464, 87465, 87466, 87467, 87468, 87469, 87470, 87471, 87472, 87473, 87474, 87475, 87476, 87477, 87478, 87479, 87480, 87481, 87482, 87483, 87484, 87485, 87486, 87487, 87488, 87489, 87490, 87491, 87492, 87493, 87494, 87495, 87496, 87497, 87498, 87499, 87500, 87501, 87502, 87503, 87504, 87505, 87506, 87507, 87508, 87509, 87510, 87511, 87512, 87513, 87514, 87515, 87516, 87517, 87518, 87519, 87520, 87521, 87522, 87523, 87524, 87525, 87526, 87527, 87528}\n",
      "Extra index in test file: {3842, 4613, 66951, 66952, 34057, 43657, 33803, 33804, 33805, 20238, 20239, 16144, 58364, 3864, 3865, 25115, 25116, 1950, 1787, 8480, 36254, 36255, 10662, 64168, 31018, 31019, 15662, 86447, 63792, 86448, 62330, 15540, 15541, 55990, 2871, 27580, 73662, 63807, 18752, 17479, 17480, 69367, 3150, 54862, 64848, 47185, 18514, 18515, 69368, 71253, 75610, 75611, 75612, 34922, 39917, 16751, 19567, 19568, 63346, 21619, 21620, 21621, 24950, 24951, 63347, 69369, 15098, 763, 1788, 58365, 58366}\n",
      "Parsing successfull for file: submission.csv\n"
     ]
    }
   ],
   "source": [
    "sanity_check(\"test.csv\", \"submission.csv\")"
   ]
  },
  {
   "cell_type": "code",
   "execution_count": 17,
   "metadata": {},
   "outputs": [
    {
     "name": "stdout",
     "output_type": "stream",
     "text": [
      "Parsing successfull for file: output.csv\n"
     ]
    }
   ],
   "source": [
    "sanity_check(\"test.csv\", \"output.csv\")"
   ]
  },
  {
   "cell_type": "code",
   "execution_count": 18,
   "metadata": {},
   "outputs": [],
   "source": [
    "second = pd.read_csv(\"submission.csv\")"
   ]
  },
  {
   "cell_type": "code",
   "execution_count": 19,
   "metadata": {},
   "outputs": [],
   "source": [
    "first = pd.read_csv(\"output.csv\")"
   ]
  },
  {
   "cell_type": "code",
   "execution_count": 20,
   "metadata": {},
   "outputs": [
    {
     "data": {
      "text/plain": [
       "0              0\n",
       "1              1\n",
       "2              2\n",
       "3              3\n",
       "4              4\n",
       "           ...  \n",
       "131182    131283\n",
       "131183    131284\n",
       "131184    131285\n",
       "131185    131286\n",
       "131186    131287\n",
       "Name: index, Length: 131187, dtype: int64"
      ]
     },
     "execution_count": 20,
     "metadata": {},
     "output_type": "execute_result"
    }
   ],
   "source": [
    "first[\"index\"] "
   ]
  },
  {
   "cell_type": "code",
   "execution_count": 21,
   "metadata": {},
   "outputs": [
    {
     "name": "stdout",
     "output_type": "stream",
     "text": [
      "Updated DataFrame saved to 'updated_test_file.csv'.\n"
     ]
    }
   ],
   "source": [
    "import pandas as pd\n",
    "\n",
    "# Step 1: Read the test and reference files\n",
    "# Assuming 'index' is a column in both files\n",
    "test_df = pd.read_csv('original_submission.csv')  # Modify with your actual file path\n",
    "reference_df = pd.read_csv('output.csv')  # Modify with your actual file path\n",
    "\n",
    "# Step 2: Extract the indices from both files\n",
    "test_indices = set(test_df['index'])\n",
    "reference_indices = set(reference_df['index'])\n",
    "\n",
    "# Given extra and missing indices in your example:\n",
    "extra_indices = {3842, 4613, 66951, 66952, 34057, 43657, 33803, 33804, 33805, 20238, \n",
    "                 20239, 16144, 58364, 3864, 3865, 25115, 25116, 1950, 1787, 8480, 36254, \n",
    "                 36255, 10662, 64168, 31018, 31019, 15662, 86447, 63792, 86448, 62330, \n",
    "                 15540, 15541, 55990, 2871, 27580, 73662, 63807, 18752, 17479, 17480, \n",
    "                 69367, 3150, 54862, 64848, 47185, 18514, 18515, 69368, 71253, 75610, \n",
    "                 75611, 75612, 34922, 39917, 16751, 19567, 19568, 63346, 21619, 21620, \n",
    "                 21621, 24950, 24951, 63347, 69369, 15098, 763, 1788, 58365, 58366}\n",
    "\n",
    "missing_indices = {87458, 87459, 87460, 87461, 87462, 87463, 87464, 87465, 87466, 87467, \n",
    "                   87468, 87469, 87470, 87471, 87472, 87473, 87474, 87475, 87476, 87477, \n",
    "                   87478, 87479, 87480, 87481, 87482, 87483, 87484, 87485, 87486, 87487, \n",
    "                   87488, 87489, 87490, 87491, 87492, 87493, 87494, 87495, 87496, 87497, \n",
    "                   87498, 87499, 87500, 87501, 87502, 87503, 87504, 87505, 87506, 87507, \n",
    "                   87508, 87509, 87510, 87511, 87512, 87513, 87514, 87515, 87516, 87517, \n",
    "                   87518, 87519, 87520, 87521, 87522, 87523, 87524, 87525, 87526, 87527, \n",
    "                   87528}\n",
    "\n",
    "# Step 3: Replace extra indices with missing indices\n",
    "# We zip the extra and missing sets to replace each extra index with a missing one.\n",
    "replacement_dict = dict(zip(extra_indices, missing_indices))\n",
    "\n",
    "# Replace the extra indices in the test DataFrame\n",
    "test_df['index'] = test_df['index'].replace(replacement_dict)\n",
    "\n",
    "# Step 4: Reorganize by ascending order of 'index'\n",
    "test_df_sorted = test_df.sort_values(by='index')\n",
    "\n",
    "# Step 5: Save the updated DataFrame back to a CSV file\n",
    "test_df_sorted.to_csv('updated_test_file.csv', index=False)\n",
    "\n",
    "print(\"Updated DataFrame saved to 'updated_test_file.csv'.\")"
   ]
  },
  {
   "cell_type": "code",
   "execution_count": 22,
   "metadata": {},
   "outputs": [
    {
     "name": "stdout",
     "output_type": "stream",
     "text": [
      "Parsing successfull for file: updated_test_file.csv\n"
     ]
    }
   ],
   "source": [
    "sanity_check(\"test.csv\", \"updated_test_file.csv\")"
   ]
  },
  {
   "cell_type": "code",
   "execution_count": 23,
   "metadata": {},
   "outputs": [
    {
     "name": "stdout",
     "output_type": "stream",
     "text": [
      "Missing index in test file: {131217, 131218, 131219, 131220, 131221, 131222, 131223, 131224, 131225, 131226, 131227, 131228, 131229, 131230, 131231, 131232, 131233, 131234, 131235, 131236, 131237, 131238, 131239, 131240, 131241, 131242, 131243, 131244, 131245, 131246, 131247, 131248, 131249, 131250, 131251, 131252, 131253, 131254, 131255, 131256, 131257, 131258, 131259, 131260, 131261, 131262, 131263, 131264, 131265, 131266, 131267, 131268, 131269, 131270, 131271, 131272, 131273, 131274, 131275, 131276, 131277, 131278, 131279, 131280, 131281, 131282, 131283, 131284, 131285, 131286, 131287}\n",
      "Parsing successfull for file: updated_output_new_2.csv\n"
     ]
    }
   ],
   "source": [
    "sanity_check(\"test.csv\", \"updated_output_new_2.csv\")"
   ]
  },
  {
   "cell_type": "code",
   "execution_count": 24,
   "metadata": {},
   "outputs": [],
   "source": [
    "df = pd.read_csv(\"updated_output_new_2.csv\")"
   ]
  },
  {
   "cell_type": "code",
   "execution_count": 25,
   "metadata": {},
   "outputs": [
    {
     "data": {
      "text/html": [
       "<div>\n",
       "<style scoped>\n",
       "    .dataframe tbody tr th:only-of-type {\n",
       "        vertical-align: middle;\n",
       "    }\n",
       "\n",
       "    .dataframe tbody tr th {\n",
       "        vertical-align: top;\n",
       "    }\n",
       "\n",
       "    .dataframe thead th {\n",
       "        text-align: right;\n",
       "    }\n",
       "</style>\n",
       "<table border=\"1\" class=\"dataframe\">\n",
       "  <thead>\n",
       "    <tr style=\"text-align: right;\">\n",
       "      <th></th>\n",
       "      <th>index</th>\n",
       "      <th>prediction</th>\n",
       "    </tr>\n",
       "  </thead>\n",
       "  <tbody>\n",
       "    <tr>\n",
       "      <th>0</th>\n",
       "      <td>0</td>\n",
       "      <td>8.0 centimetre</td>\n",
       "    </tr>\n",
       "    <tr>\n",
       "      <th>1</th>\n",
       "      <td>1</td>\n",
       "      <td>42.0 inch</td>\n",
       "    </tr>\n",
       "    <tr>\n",
       "      <th>2</th>\n",
       "      <td>2</td>\n",
       "      <td>42.0 centimetre</td>\n",
       "    </tr>\n",
       "    <tr>\n",
       "      <th>3</th>\n",
       "      <td>3</td>\n",
       "      <td>42.0 millimetre</td>\n",
       "    </tr>\n",
       "    <tr>\n",
       "      <th>4</th>\n",
       "      <td>4</td>\n",
       "      <td>10.5 millimetre</td>\n",
       "    </tr>\n",
       "  </tbody>\n",
       "</table>\n",
       "</div>"
      ],
      "text/plain": [
       "   index       prediction\n",
       "0      0   8.0 centimetre\n",
       "1      1        42.0 inch\n",
       "2      2  42.0 centimetre\n",
       "3      3  42.0 millimetre\n",
       "4      4  10.5 millimetre"
      ]
     },
     "execution_count": 25,
     "metadata": {},
     "output_type": "execute_result"
    }
   ],
   "source": [
    "df.head()"
   ]
  },
  {
   "cell_type": "code",
   "execution_count": 36,
   "metadata": {},
   "outputs": [
    {
     "data": {
      "text/html": [
       "<div>\n",
       "<style scoped>\n",
       "    .dataframe tbody tr th:only-of-type {\n",
       "        vertical-align: middle;\n",
       "    }\n",
       "\n",
       "    .dataframe tbody tr th {\n",
       "        vertical-align: top;\n",
       "    }\n",
       "\n",
       "    .dataframe thead th {\n",
       "        text-align: right;\n",
       "    }\n",
       "</style>\n",
       "<table border=\"1\" class=\"dataframe\">\n",
       "  <thead>\n",
       "    <tr style=\"text-align: right;\">\n",
       "      <th></th>\n",
       "      <th>index</th>\n",
       "      <th>prediction</th>\n",
       "    </tr>\n",
       "  </thead>\n",
       "  <tbody>\n",
       "    <tr>\n",
       "      <th>0</th>\n",
       "      <td>0</td>\n",
       "      <td>8.0 centimetre</td>\n",
       "    </tr>\n",
       "    <tr>\n",
       "      <th>1</th>\n",
       "      <td>1</td>\n",
       "      <td>42.0 inch</td>\n",
       "    </tr>\n",
       "    <tr>\n",
       "      <th>2</th>\n",
       "      <td>2</td>\n",
       "      <td>42.0 centimetre</td>\n",
       "    </tr>\n",
       "    <tr>\n",
       "      <th>3</th>\n",
       "      <td>3</td>\n",
       "      <td>42.0 millimetre</td>\n",
       "    </tr>\n",
       "    <tr>\n",
       "      <th>4</th>\n",
       "      <td>4</td>\n",
       "      <td>10.5 millimetre</td>\n",
       "    </tr>\n",
       "  </tbody>\n",
       "</table>\n",
       "</div>"
      ],
      "text/plain": [
       "   index       prediction\n",
       "0      0   8.0 centimetre\n",
       "1      1        42.0 inch\n",
       "2      2  42.0 centimetre\n",
       "3      3  42.0 millimetre\n",
       "4      4  10.5 millimetre"
      ]
     },
     "execution_count": 36,
     "metadata": {},
     "output_type": "execute_result"
    }
   ],
   "source": [
    "# Step 1: Load the original DataFrame, ensuring no extra index column is added\n",
    "df = pd.read_csv('updated_output_new_2.csv')  # Use index_col=0 to skip the first column if it's an unwanted index\n",
    "\n",
    "# Step 2: Create a new DataFrame for the missing indices with prediction '0 inch'\n",
    "missing_indices = [\n",
    "    131217, 131218, 131219, 131220, 131221, 131222, 131223, 131224, 131225, \n",
    "    131226, 131227, 131228, 131229, 131230, 131231, 131232, 131233, 131234, \n",
    "    131235, 131236, 131237, 131238, 131239, 131240, 131241, 131242, 131243, \n",
    "    131244, 131245, 131246, 131247, 131248, 131249, 131250, 131251, 131252, \n",
    "    131253, 131254, 131255, 131256, 131257, 131258, 131259, 131260, 131261, \n",
    "    131262, 131263, 131264, 131265, 131266, 131267, 131268, 131269, 131270, \n",
    "    131271, 131272, 131273, 131274, 131275, 131276, 131277, 131278, 131279, \n",
    "    131280, 131281, 131282, 131283, 131284, 131285, 131286, 131287\n",
    "]\n",
    "\n",
    "missing_data = pd.DataFrame({\n",
    "    'index': missing_indices,\n",
    "    'prediction': ['0 inch'] * len(missing_indices)\n",
    "})\n",
    "\n",
    "# Step 3: Concatenate the original DataFrame with the missing data DataFrame\n",
    "combined_df = pd.concat([df, missing_data])\n",
    "\n",
    "# Step 4: Sort the combined DataFrame by 'index'\n",
    "combined_df = combined_df.sort_values(by='index').reset_index(drop=False)  # Remove old index\n",
    "\n",
    "# Step 5: Ensure only 'index' and 'prediction' columns are present\n",
    "combined_df = combined_df[['index', 'prediction']]  # Keep only 'index' and 'prediction' columns\n",
    "\n",
    "# Step 6: Save the resulting DataFrame if needed\n",
    "combined_df.to_csv(\"final_submission.csv\", index=False)\n",
    "\n",
    "combined_df.head()  # Display first few rows of the sorted DataFrame"
   ]
  },
  {
   "cell_type": "code",
   "execution_count": 39,
   "metadata": {},
   "outputs": [
    {
     "name": "stdout",
     "output_type": "stream",
     "text": [
      "Missing index in test file: {131187, 131188, 131189, 131190, 131191, 131192, 131193, 131194, 131195, 131196, 131197, 131198, 131199, 131200, 131201, 131202, 131203, 131204, 131205, 131206, 131207, 131208, 131209, 131210, 131211, 131212, 131213, 131214, 131215, 131216, 131217, 131218, 131219, 131220, 131221, 131222, 131223, 131224, 131225, 131226, 131227, 131228, 131229, 131230, 131231, 131232, 131233, 131234, 131235, 131236, 131237, 131238, 131239, 131240, 131241, 131242, 131243, 131244, 131245, 131246, 131247, 131248, 131249, 131250, 131251, 131252, 131253, 131254, 131255, 131256, 131257, 131258, 131259, 131260, 131261, 131262, 131263, 131264, 131265, 131266, 131267, 131268, 131269, 131270, 131271, 131272, 131273, 131274, 131275, 131276, 131277, 131278, 131279, 131280, 131281, 131282, 131283, 131284, 131285, 131286, 131287}\n",
      "Extra index in test file: {4613, 121862, 33803, 33804, 33805, 25115, 25116, 124444, 124445, 108082, 108083, 17479, 17480, 3150, 54862, 47185, 18514, 18515, 104531, 71253, 88676, 119400, 119401, 34922, 19567, 19568, 21619, 21620, 21621, 127615, 120450, 120451, 127110, 43657, 101003, 64168, 15540, 15541, 55990, 122084, 69367, 69368, 69369, 15098, 1787, 763, 1788, 3842, 34057, 120077, 20238, 20239, 16144, 120078, 124692, 124693, 3864, 3865, 8480, 31018, 31019, 15662, 63792, 120112, 120113, 2871, 63807, 18752, 64848, 109399, 75610, 75611, 75612, 112480, 121198, 16751, 121199, 63346, 63347, 24950, 24951, 62330, 66951, 66952, 1950, 36254, 36255, 10662, 86447, 86448, 89529, 89530, 27580, 129532, 73662, 128461, 39917, 129531, 58364, 58365, 58366}\n",
      "Parsing successfull for file: output_submission_1.csv\n"
     ]
    }
   ],
   "source": [
    "sanity_check(\"test.csv\", \"output_submission_1.csv\")"
   ]
  },
  {
   "cell_type": "code",
   "execution_count": 41,
   "metadata": {},
   "outputs": [
    {
     "name": "stdout",
     "output_type": "stream",
     "text": [
      "Do both sets have the same length? True\n",
      "Updated DataFrame saved to 'updated_test_file.csv'.\n"
     ]
    }
   ],
   "source": [
    "# Step 1: Read the test and reference files\n",
    "# Assuming 'index' is a column in both files\n",
    "test_df = pd.read_csv('original_submission.csv')  # Modify with your actual file path\n",
    "reference_df = pd.read_csv('output.csv')  # Modify with your actual file path\n",
    "\n",
    "# Step 2: Extract the indices from both files\n",
    "test_indices = set(test_df['index'])\n",
    "reference_indices = set(reference_df['index'])\n",
    "# Define the sets of missing and extra indices\n",
    "missing_indices = {131187, 131188, 131189, 131190, 131191, 131192, 131193, 131194, 131195, 131196, 131197, 131198, 131199, 131200, 131201, 131202, 131203, 131204, 131205, 131206, 131207, 131208, 131209, 131210, 131211, 131212, 131213, 131214, 131215, 131216, 131217, 131218, 131219, 131220, 131221, 131222, 131223, 131224, 131225, 131226, 131227, 131228, 131229, 131230, 131231, 131232, 131233, 131234, 131235, 131236, 131237, 131238, 131239, 131240, 131241, 131242, 131243, 131244, 131245, 131246, 131247, 131248, 131249, 131250, 131251, 131252, 131253, 131254, 131255, 131256, 131257, 131258, 131259, 131260, 131261, 131262, 131263, 131264, 131265, 131266, 131267, 131268, 131269, 131270, 131271, 131272, 131273, 131274, 131275, 131276, 131277, 131278, 131279, 131280, 131281, 131282, 131283, 131284, 131285, 131286, 131287}\n",
    "\n",
    "extra_indices = {4613, 121862, 33803, 33804, 33805, 25115, 25116, 124444, 124445, 108082, 108083, 17479, 17480, 3150, 54862, 47185, 18514, 18515, 104531, 71253, 88676, 119400, 119401, 34922, 19567, 19568, 21619, 21620, 21621, 127615, 120450, 120451, 127110, 43657, 101003, 64168, 15540, 15541, 55990, 122084, 69367, 69368, 69369, 15098, 1787, 763, 1788, 3842, 34057, 120077, 20238, 20239, 16144, 120078, 124692, 124693, 3864, 3865, 8480, 31018, 31019, 15662, 63792, 120112, 120113, 2871, 63807, 18752, 64848, 109399, 75610, 75611, 75612, 112480, 121198, 16751, 121199, 63346, 63347, 24950, 24951, 62330, 66951, 66952, 1950, 36254, 36255, 10662, 86447, 86448, 89529, 89530, 27580, 129532, 73662, 128461, 39917, 129531, 58364, 58365, 58366}\n",
    "\n",
    "# Compare lengths of the sets\n",
    "same_length = len(missing_indices) == len(extra_indices)\n",
    "\n",
    "# Print the result\n",
    "print(f\"Do both sets have the same length? {same_length}\")\n",
    "\n",
    "replacement_dict = dict(zip(extra_indices, missing_indices))\n",
    "\n",
    "# Replace the extra indices in the test DataFrame\n",
    "test_df['index'] = test_df['index'].replace(replacement_dict)\n",
    "\n",
    "# Step 4: Reorganize by ascending order of 'index'\n",
    "test_df_sorted = test_df.sort_values(by='index')\n",
    "\n",
    "# Step 5: Save the updated DataFrame back to a CSV file\n",
    "test_df_sorted.to_csv('updated_test_file.csv', index=False)\n",
    "\n",
    "print(\"Updated DataFrame saved to 'updated_test_file.csv'.\")"
   ]
  },
  {
   "cell_type": "code",
   "execution_count": 42,
   "metadata": {},
   "outputs": [
    {
     "name": "stdout",
     "output_type": "stream",
     "text": [
      "Missing index in test file: {87458, 87459, 87460, 87461, 87462, 87463, 87464, 87465, 87466, 87467, 87468, 87469, 87470, 87471, 87472, 87473, 87474, 87475, 87476, 87477, 87478, 87479, 87480, 87481, 87482, 87483, 87484, 87485, 87486, 87487, 87488, 87489, 87490, 87491, 87492, 87493, 87494, 87495, 87496, 87497, 87498, 87499, 87500, 87501, 87502, 87503, 87504, 87505, 87506, 87507, 87508, 87509, 87510, 87511, 87512, 87513, 87514, 87515, 87516, 87517, 87518, 87519, 87520, 87521, 87522, 87523, 87524, 87525, 87526, 87527, 87528}\n",
      "Parsing successfull for file: updated_test_file.csv\n"
     ]
    }
   ],
   "source": [
    "sanity_check(\"test.csv\", \"updated_test_file.csv\")"
   ]
  },
  {
   "cell_type": "code",
   "execution_count": null,
   "metadata": {},
   "outputs": [],
   "source": []
  }
 ],
 "metadata": {
  "kernelspec": {
   "display_name": "base",
   "language": "python",
   "name": "python3"
  },
  "language_info": {
   "codemirror_mode": {
    "name": "ipython",
    "version": 3
   },
   "file_extension": ".py",
   "mimetype": "text/x-python",
   "name": "python",
   "nbconvert_exporter": "python",
   "pygments_lexer": "ipython3",
   "version": "3.10.8"
  }
 },
 "nbformat": 4,
 "nbformat_minor": 2
}
